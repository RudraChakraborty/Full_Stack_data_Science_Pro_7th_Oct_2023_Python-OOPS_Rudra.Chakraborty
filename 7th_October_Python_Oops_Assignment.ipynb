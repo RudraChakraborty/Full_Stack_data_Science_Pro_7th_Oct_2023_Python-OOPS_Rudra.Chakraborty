{
 "cells": [
  {
   "cell_type": "markdown",
   "metadata": {},
   "source": [
    "Problem 1: Bank Account Create a class representing a bank account with attributes like account number, account holder name, and balance. Implement methods to deposit and withdraw money from the account."
   ]
  },
  {
   "cell_type": "code",
   "execution_count": 10,
   "metadata": {},
   "outputs": [
    {
     "name": "stdout",
     "output_type": "stream",
     "text": [
      "Account balance: 1000\n",
      "Account balance: 5000\n",
      "Deposited 5000. New balance is 6000\n",
      "Deposited 2000. New balance is 7000\n",
      "Withdrew 4000. New balance is 3000.\n",
      "Account balance: 6000\n",
      "Account balance: 3000\n"
     ]
    }
   ],
   "source": [
    "class InsufficientFundsError(Exception):\n",
    "    pass\n",
    "class InvalidAmountError(Exception):\n",
    "    pass\n",
    "class BankAccount:\n",
    "    def __init__(self,account_number,account_holder,initial_balance=0):\n",
    "        self.account_number=account_number\n",
    "        self.account_holder=account_holder\n",
    "        self.balance=initial_balance\n",
    "    def deposit(self,amount):\n",
    "        if amount<=0:\n",
    "            raise InvalidAmountError(\"Deposit amount must be positive.\")\n",
    "        self.balance+=amount\n",
    "        print(f\"Deposited {amount}. New balance is {self.balance}\")\n",
    "    def withdrawl(self,amount):\n",
    "        if amount<=0:\n",
    "            raise InvalidAmountError(\"Withdrawal amount must be positive.\")\n",
    "        if amount > self.balance:\n",
    "            raise InsufficientFundsError(\"Insufficient funds for this withdrawal.\")\n",
    "        self.balance-=amount\n",
    "        print(f\"Withdrew {amount}. New balance is {self.balance}.\")\n",
    "    def display_balance(self):\n",
    "        print(f\"Account balance: {self.balance}\")\n",
    "try:\n",
    "    account1=BankAccount(\"9876543210024\",\"Rudra\",1000)\n",
    "    account2=BankAccount(\"9876541230024\",\"Soumyadeep\",5000)\n",
    "    account1.display_balance()\n",
    "    account2.display_balance()\n",
    "    account1.deposit(5000)\n",
    "    account2.deposit(2000)\n",
    "    account2.withdrawl(4000)\n",
    "except InsufficientFundsError as e:\n",
    "    print(f\"Error: {e}\")\n",
    "except InvalidAmountError as e:\n",
    "    print(f\"Error: {e}\")\n",
    "except Exception as e:\n",
    "    print(f\"An unexpected error occurred: {e}\")\n",
    "finally:\n",
    "    account1.display_balance()\n",
    "    account2.display_balance()"
   ]
  },
  {
   "cell_type": "markdown",
   "metadata": {},
   "source": [
    "Problem 2: Employee Management Create a class representing an employee with attributes like employee ID, name, and salary. Implement methods to calculate the yearly bonus and display employee details.\n"
   ]
  },
  {
   "cell_type": "code",
   "execution_count": 11,
   "metadata": {},
   "outputs": [
    {
     "name": "stdout",
     "output_type": "stream",
     "text": [
      "Employee ID: E0001\n",
      "Name: Rudra\n",
      "Salary: 20000\n",
      "Employee ID: E0002\n",
      "Name: Supu\n",
      "Salary: 15000\n",
      "Yearly bonus for Rudra: 2000.0\n",
      "Yearly bonus for Supu: 1500.0\n"
     ]
    }
   ],
   "source": [
    "class Employee:\n",
    "    def __init__(self,employee_id,name,salary):\n",
    "        self.employee_id=employee_id\n",
    "        self.name=name\n",
    "        self.salary=salary\n",
    "    def calculate_yearly_bonus(self,bonus_percentage):\n",
    "        if bonus_percentage<0:\n",
    "            raise ValueError(\"Bonus percentage must be non-negative.\")\n",
    "        return self.salary*(bonus_percentage/100)\n",
    "    def display_details(self):\n",
    "        print(f\"Employee ID: {self.employee_id}\")\n",
    "        print(f\"Name: {self.name}\")\n",
    "        print(f\"Salary: {self.salary}\")\n",
    "try:\n",
    "    emp1=Employee(\"E0001\",\"Rudra\",20000)\n",
    "    emp2=Employee(\"E0002\",\"Supu\",15000)\n",
    "    emp1.display_details()\n",
    "    emp2.display_details()\n",
    "    bonus_percentage=10\n",
    "    bonus1=emp1.calculate_yearly_bonus(bonus_percentage)\n",
    "    bonus2=emp2.calculate_yearly_bonus(bonus_percentage)\n",
    "    print(f\"Yearly bonus for {emp1.name}: {bonus1}\")\n",
    "    print(f\"Yearly bonus for {emp2.name}: {bonus2}\")\n",
    "except ValueError as e:\n",
    "    print(f\"Error: {e}\")\n",
    "except Exception as e:\n",
    "    print(f\"An unexpected error occurred: {e}\")"
   ]
  },
  {
   "cell_type": "markdown",
   "metadata": {},
   "source": [
    "Problem 3: Vehicle Rental Create a class representing a vehicle rental system. Implement methods to rent a vehicle, return a vehicle, and display available vehicles."
   ]
  },
  {
   "cell_type": "code",
   "execution_count": 43,
   "metadata": {},
   "outputs": [
    {
     "name": "stdout",
     "output_type": "stream",
     "text": [
      "Available vehicles:\n",
      "-Car\n",
      "-Bike\n",
      "-Scotty\n",
      "-Van\n",
      "Vehicle 'Bike' has been returned.\n",
      "vehicle 'Bike' was not returned from this system.\n",
      "Available vehicles:\n",
      "-Car\n",
      "-Scotty\n",
      "-Van\n",
      "vehicle 'Bike' was not returned from this system.\n",
      "Available vehicles:\n",
      "-Car\n",
      "-Scotty\n",
      "-Van\n"
     ]
    }
   ],
   "source": [
    "class VehicleRental:\n",
    "    def __init__(self,vehicles):\n",
    "        self.available_vehicles=vehicles\n",
    "        self.rented_vehicles=[]\n",
    "    def rented_vehicle(self,vehicle):\n",
    "        if vehicle in self.available_vehicles:\n",
    "            self.available_vehicles.remove(vehicle)\n",
    "            self.rented_vehicles.append(vehicle)\n",
    "            print(f\"Vehicle '{vehicle}' has been returned.\")\n",
    "        else:\n",
    "            print(f\"vehicle '{vehicle}' was not returned from this system.\")\n",
    "    def display_available_vehicles(self):\n",
    "        if self.available_vehicles:\n",
    "            print(\"Available vehicles:\")\n",
    "            for vehicle in self.available_vehicles:\n",
    "                print(f\"-{vehicle}\")\n",
    "        else:\n",
    "            print(\"No vehicels are availabel\")\n",
    "vehicle=[\"Car\",\"Bike\",\"Scotty\",\"Van\"]\n",
    "rental_system=VehicleRental(vehicle)\n",
    "rental_system.display_available_vehicles()\n",
    "rental_system.rented_vehicle(\"Bike\")\n",
    "rental_system.rented_vehicle(\"Bike\")\n",
    "rental_system.display_available_vehicles()\n",
    "rental_system.rented_vehicle(\"Bike\")\n",
    "rental_system.display_available_vehicles()"
   ]
  },
  {
   "cell_type": "markdown",
   "metadata": {},
   "source": [
    "Problem 4: Library Catalog Create classes representing a library and a book. Implement methods to add books to the library, borrow books, and display available books."
   ]
  },
  {
   "cell_type": "code",
   "execution_count": 39,
   "metadata": {},
   "outputs": [
    {
     "name": "stdout",
     "output_type": "stream",
     "text": [
      "Book 'The Great Gatsby' by F. Scott Fitzgerald (ISBN: 9780743273565) has been added to the library.\n",
      "Book '1984' by George Orwell (ISBN: 9780451524935) has been added to the library.\n",
      "Book 'To Kill a Mockingbird' by Harper Lee (ISBN: 9780060935467) has been added to the library.\n",
      "Available books:\n",
      " - 'The Great Gatsby' by F. Scott Fitzgerald (ISBN: 9780743273565)\n",
      " - '1984' by George Orwell (ISBN: 9780451524935)\n",
      " - 'To Kill a Mockingbird' by Harper Lee (ISBN: 9780060935467)\n",
      "Book '1984' by George Orwell (ISBN: 9780451524935) has been borrowed.\n",
      "Available books:\n",
      " - 'The Great Gatsby' by F. Scott Fitzgerald (ISBN: 9780743273565)\n",
      " - 'To Kill a Mockingbird' by Harper Lee (ISBN: 9780060935467)\n",
      "Book with ISBN 9780451524935 is not available for borrowing.\n",
      "Available books:\n",
      " - 'The Great Gatsby' by F. Scott Fitzgerald (ISBN: 9780743273565)\n",
      " - 'To Kill a Mockingbird' by Harper Lee (ISBN: 9780060935467)\n"
     ]
    }
   ],
   "source": [
    "class Book:\n",
    "    def __init__(self, title, author, isbn):\n",
    "        self.title = title\n",
    "        self.author = author\n",
    "        self.isbn = isbn\n",
    "        self.is_borrowed = False\n",
    "    def __str__(self):\n",
    "        return f\"'{self.title}' by {self.author} (ISBN: {self.isbn})\"\n",
    "class Library:\n",
    "    def __init__(self):\n",
    "        self.books = []\n",
    "    def add_book(self, book):\n",
    "        self.books.append(book)\n",
    "        print(f\"Book {book} has been added to the library.\")\n",
    "    def borrow_book(self, isbn):\n",
    "        for book in self.books:\n",
    "            if book.isbn == isbn and not book.is_borrowed:\n",
    "                book.is_borrowed = True\n",
    "                print(f\"Book {book} has been borrowed.\")\n",
    "                return\n",
    "        print(f\"Book with ISBN {isbn} is not available for borrowing.\")\n",
    "    def display_available_books(self):\n",
    "        available_books = [book for book in self.books if not book.is_borrowed]\n",
    "        if available_books:\n",
    "            print(\"Available books:\")\n",
    "            for book in available_books:\n",
    "                print(f\" - {book}\")\n",
    "        else:\n",
    "            print(\"No books are available.\")\n",
    "library = Library()\n",
    "book1 = Book(\"The Great Gatsby\", \"F. Scott Fitzgerald\", \"9780743273565\")\n",
    "book2 = Book(\"1984\", \"George Orwell\", \"9780451524935\")\n",
    "book3 = Book(\"To Kill a Mockingbird\", \"Harper Lee\", \"9780060935467\")\n",
    "library.add_book(book1)\n",
    "library.add_book(book2)\n",
    "library.add_book(book3)\n",
    "library.display_available_books()\n",
    "library.borrow_book(\"9780451524935\")\n",
    "library.display_available_books()\n",
    "library.borrow_book(\"9780451524935\")\n",
    "library.display_available_books()"
   ]
  },
  {
   "cell_type": "markdown",
   "metadata": {},
   "source": [
    "Problem 5: Product Inventory Create classes representing a product and an inventory system. Implement methods to add products to the inventory, update product quantity, and display available products."
   ]
  },
  {
   "cell_type": "code",
   "execution_count": 44,
   "metadata": {},
   "outputs": [
    {
     "name": "stdout",
     "output_type": "stream",
     "text": [
      "Product Laptop has been added to the inventory.\n",
      "Product Smartphone has been added to the inventory.\n",
      "Product Tablet has been added to the inventory.\n",
      "Available products:\n",
      " - Product ID: 1, Name: Laptop, Quantity: 10, Price: ₹50000.00\n",
      " - Product ID: 2, Name: Smartphone, Quantity: 15, Price: ₹20000.00\n",
      " - Product ID: 3, Name: Tablet, Quantity: 8, Price: ₹40000.00\n",
      "Product ID 2 quantity updated to 20.\n",
      "Available products:\n",
      " - Product ID: 1, Name: Laptop, Quantity: 10, Price: ₹50000.00\n",
      " - Product ID: 2, Name: Smartphone, Quantity: 20, Price: ₹20000.00\n",
      " - Product ID: 3, Name: Tablet, Quantity: 8, Price: ₹40000.00\n",
      "Product Smartphone already exists. Updated quantity to 25.\n",
      "Available products:\n",
      " - Product ID: 1, Name: Laptop, Quantity: 10, Price: ₹50000.00\n",
      " - Product ID: 2, Name: Smartphone, Quantity: 25, Price: ₹20000.00\n",
      " - Product ID: 3, Name: Tablet, Quantity: 8, Price: ₹40000.00\n"
     ]
    }
   ],
   "source": [
    "class Product:\n",
    "    def __init__(self,product_id,name,quantity,price):\n",
    "        self.product_id=product_id\n",
    "        self.name = name\n",
    "        self.quantity = quantity\n",
    "        self.price = price\n",
    "    def __str__(self):\n",
    "        return f\"Product ID: {self.product_id}, Name: {self.name}, Quantity: {self.quantity}, Price: ₹{self.price:.2f}\"\n",
    "class Inventory:\n",
    "    def __init__(self):\n",
    "        self.products = {}\n",
    "    def add_product(self, product):\n",
    "        if product.product_id in self.products:\n",
    "            self.products[product.product_id].quantity += product.quantity\n",
    "            print(f\"Product {product.name} already exists. Updated quantity to {self.products[product.product_id].quantity}.\")\n",
    "        else:\n",
    "            self.products[product.product_id] = product\n",
    "            print(f\"Product {product.name} has been added to the inventory.\")\n",
    "    def update_product_quantity(self, product_id, quantity):\n",
    "        if product_id in self.products:\n",
    "            self.products[product_id].quantity = quantity\n",
    "            print(f\"Product ID {product_id} quantity updated to {quantity}.\")\n",
    "        else:\n",
    "            print(f\"Product ID {product_id} not found in the inventory.\")\n",
    "    def display_available_products(self):\n",
    "        if self.products:\n",
    "            print(\"Available products:\")\n",
    "            for product in self.products.values():\n",
    "                print(f\" - {product}\")\n",
    "        else:\n",
    "            print(\"No products are available in the inventory.\")\n",
    "inventory = Inventory()\n",
    "product1 = Product(1, \"Laptop\", 10, 50000)\n",
    "product2 = Product(2, \"Smartphone\", 15, 20000)\n",
    "product3 = Product(3, \"Tablet\", 8, 40000)\n",
    "inventory.add_product(product1)\n",
    "inventory.add_product(product2)\n",
    "inventory.add_product(product3)\n",
    "inventory.display_available_products()\n",
    "inventory.update_product_quantity(2, 20)\n",
    "inventory.display_available_products()\n",
    "inventory.add_product(Product(2, \"Smartphone\", 5, 20000))\n",
    "inventory.display_available_products()"
   ]
  },
  {
   "cell_type": "markdown",
   "metadata": {},
   "source": [
    "Problem 6: Shape Calculation Create a class representing a shape with attributes like length, width, and height. Implement methods to calculate the area and perimeter of the shape."
   ]
  },
  {
   "cell_type": "code",
   "execution_count": 2,
   "metadata": {},
   "outputs": [
    {
     "name": "stdout",
     "output_type": "stream",
     "text": [
      "Rectangel area: 15\n",
      "Rectangel Perimitar:16\n",
      "Triangle Area: 6.0\n",
      "Triangle Perimeter: 12.0\n",
      "Invalid dimensions for calculating area.\n"
     ]
    }
   ],
   "source": [
    "class Shape:\n",
    "    def __init__(self,length,width=None,height=None):\n",
    "        self.length=length\n",
    "        self.width=width\n",
    "        self.height=height\n",
    "    def calculate_area(self):\n",
    "        if self.width is not None and self.height is None:\n",
    "            return self.length*self.width\n",
    "        elif self.length is not None and self.width is None:\n",
    "            return 0.5*self.length*self.height\n",
    "        else:\n",
    "            raise ValueError(\"Invalid dimensions for calculating area.\")\n",
    "    def calculate_perimeter(self):\n",
    "        if self.width is not None and self.height is None:\n",
    "            return 2*(self.length + self.width)\n",
    "        elif self.height is not None and self.width is None:\n",
    "            hypotenuse=(self.length**2+self.height**2)**0.5\n",
    "            return  self.length + self.height + hypotenuse\n",
    "        else:\n",
    "            raise ValueError(\"Invalid dimensions for calculating perimeter.\")\n",
    "rectangel=Shape(length=5,width=3)\n",
    "print(f\"Rectangel area: {rectangel.calculate_area()}\")\n",
    "print(f\"Rectangel Perimitar:{rectangel.calculate_perimeter()}\")\n",
    "triangle=Shape(length=3,height=4)\n",
    "print(f\"Triangle Area: {triangle.calculate_area()}\")\n",
    "print(f\"Triangle Perimeter: {triangle.calculate_perimeter()}\")\n",
    "try:\n",
    "    invalid_shape=Shape(length=5,width=3,height=4)\n",
    "    invalid_shape.calculate_area()\n",
    "except ValueError as e:\n",
    "    print(e)"
   ]
  },
  {
   "cell_type": "markdown",
   "metadata": {},
   "source": [
    "Problem 7: Student Management Create a class representing a student with attributes like student ID, name, and grades. Implement methods to calculate the average grade and display student details."
   ]
  },
  {
   "cell_type": "code",
   "execution_count": 8,
   "metadata": {},
   "outputs": [
    {
     "name": "stdout",
     "output_type": "stream",
     "text": [
      "Student ID: 1\n",
      "Name: Rudra\n",
      "Grades: [85, 90, 78, 92]\n",
      "Average Grade: 86.25\n",
      "Student ID: 2\n",
      "Name: Soumyadeep\n",
      "Grades: [88, 76, 80, 94, 85]\n",
      "Average Grade: 84.60\n"
     ]
    }
   ],
   "source": [
    "class Student:\n",
    "    def __init__(self,student_id,name,grades):\n",
    "        self.student_id=student_id\n",
    "        self.name=name\n",
    "        self.grades=grades\n",
    "    def calculate_avg_grade(self):\n",
    "        if not self.grades:\n",
    "            return 0\n",
    "        return sum(self.grades)/len(self.grades)\n",
    "    def display_details(self):\n",
    "        average_grade=self.calculate_avg_grade()\n",
    "        print(f\"Student ID: {self.student_id}\")\n",
    "        print(f\"Name: {self.name}\")\n",
    "        print(f\"Grades: {self.grades}\")\n",
    "        print(f\"Average Grade: {average_grade:.2f}\")\n",
    "student1=Student(student_id=1,name=\"Rudra\",grades=[85, 90, 78, 92] )\n",
    "student2=Student(student_id=2, name=\"Soumyadeep\", grades=[88, 76, 80, 94, 85])\n",
    "student1.display_details()\n",
    "student2.display_details()"
   ]
  },
  {
   "cell_type": "markdown",
   "metadata": {},
   "source": [
    "Problem 8: Email Management Create a class representing an email with attributes like sender, recipient, and subject. Implement methods to send an email and display email details."
   ]
  },
  {
   "cell_type": "code",
   "execution_count": 16,
   "metadata": {},
   "outputs": [
    {
     "name": "stdout",
     "output_type": "stream",
     "text": [
      "Sender:rudra@pwskills.com\n",
      "Recipint:admin@pwskills.com\n",
      "Subject: Check codes\n",
      "Body: Dear Sir/Madam, Please Check my codings. Regards Rudra Chakraborty\n",
      "Sending emails.....\n",
      "From:rudra@pwskills.com\n",
      "To: admin@pwskills.com\n",
      "Subject: Check codes\n",
      "Body: Dear Sir/Madam, Please Check my codings. Regards Rudra Chakraborty\n"
     ]
    }
   ],
   "source": [
    "class Email:\n",
    "    def __init__(self,sender,recipent,subject,body):\n",
    "        self.sender=sender\n",
    "        self.recipent=recipent\n",
    "        self.subject=subject\n",
    "        self.body=body\n",
    "    def send_email(self):\n",
    "        print(\"Sending emails.....\")\n",
    "        print(f\"From:{self.sender}\")\n",
    "        print(f\"To: {self.recipent}\")\n",
    "        print(f\"Subject: {self.subject}\")\n",
    "        print(f\"Body: {self.body}\")\n",
    "    def display_details(self):\n",
    "        print(f\"Sender:{self.sender}\")\n",
    "        print(f\"Recipint:{self.recipent}\")\n",
    "        print(f\"Subject: {self.subject}\")\n",
    "        print(f\"Body: {self.body}\")\n",
    "sender=input(\"Enter your email Id:\")\n",
    "recipent=input(\"Enter your recipent email Id:\")\n",
    "subject=input(\"Enter your subject of email:\")\n",
    "body=input(\"Type your email body:\")\n",
    "email=Email(\n",
    "    sender=sender,\n",
    "    recipent=recipent,\n",
    "    subject=subject,\n",
    "    body=body,\n",
    ")\n",
    "email.display_details()\n",
    "email.send_email()"
   ]
  },
  {
   "cell_type": "markdown",
   "metadata": {},
   "source": [
    "Problem 9: Social Media Profile Create a class representing a social media profile with attributes like username and posts. Implement methods to add posts, display posts, and search for posts by keyword."
   ]
  },
  {
   "cell_type": "code",
   "execution_count": 15,
   "metadata": {},
   "outputs": [
    {
     "name": "stdout",
     "output_type": "stream",
     "text": [
      "\n",
      "Menu:\n",
      "1.Add post\n",
      "2.Display all post\n",
      "3.Search post by keyword\n",
      "4.EXIT\n",
      "Post added: Hello Guys!!!\n",
      "\n",
      "Menu:\n",
      "1.Add post\n",
      "2.Display all post\n",
      "3.Search post by keyword\n",
      "4.EXIT\n",
      "Invalid choice. Please select a valid option.\n",
      "\n",
      "Menu:\n",
      "1.Add post\n",
      "2.Display all post\n",
      "3.Search post by keyword\n",
      "4.EXIT\n",
      "Post added: Just 10 Seats are left Hurry up!!!\n",
      "\n",
      "Menu:\n",
      "1.Add post\n",
      "2.Display all post\n",
      "3.Search post by keyword\n",
      "4.EXIT\n",
      "Posts by Rudra Chakraborty\n",
      "1.Hello Guys!!!\n",
      "2.Just 10 Seats are left Hurry up!!!\n",
      "\n",
      "Menu:\n",
      "1.Add post\n",
      "2.Display all post\n",
      "3.Search post by keyword\n",
      "4.EXIT\n",
      "Exiting the program.\n"
     ]
    }
   ],
   "source": [
    "class SocialMidiaProfile:\n",
    "    def __init__(self,username):\n",
    "        self.username=username\n",
    "        self.posts=[]\n",
    "    def add_post(self,post):\n",
    "        self.posts.append(post)\n",
    "        print(f\"Post added: {post}\")\n",
    "    def display_posts(self):\n",
    "        if not self.posts:\n",
    "            print(\"No post available.\")\n",
    "        else:\n",
    "            print(f\"Posts by {self.username}\")\n",
    "            for idx, post in enumerate(self.posts,1):\n",
    "                print(f\"{idx}.{post}\")\n",
    "    def search_post_by_keywords(self,keyword):\n",
    "        matching_posts=[post for post in self.posts if keyword.lower() in post.lower()]\n",
    "        if matching_posts:\n",
    "            print(f\"Posts containting '{keyword}':\")\n",
    "            for post in matching_posts:\n",
    "                print(\"-{post}\")\n",
    "        else:\n",
    "            print(f\"No posts found containing '{keyword}'.\")\n",
    "username=input(\"Enter the user name\")\n",
    "profile=SocialMidiaProfile(username)\n",
    "while True:\n",
    "    print(\"\\nMenu:\")\n",
    "    print(\"1.Add post\")\n",
    "    print(\"2.Display all post\")\n",
    "    print(\"3.Search post by keyword\")\n",
    "    print(\"4.EXIT\")\n",
    "    choice=input(\"Choose an option\")\n",
    "    if choice==\"1\":\n",
    "        post=input(\"Enter your post\")\n",
    "        profile.add_post(post)\n",
    "    elif choice==\"2\":\n",
    "        profile.display_posts()\n",
    "    elif choice==\"3\":\n",
    "        keyword=input(\"Enter the keyword to search for:\")\n",
    "        profile.search_post_by_keywords(keyword)\n",
    "    elif choice==\"4\":\n",
    "        print(\"Exiting the program.\")\n",
    "        break\n",
    "    else:\n",
    "        print(\"Invalid choice. Please select a valid option.\")"
   ]
  },
  {
   "cell_type": "markdown",
   "metadata": {},
   "source": [
    "Problem 10: ToDo List Create a class representing a ToDo list with attributes like tasks and due dates. Implement methods to add tasks, mark tasks as completed, and display pending tasks."
   ]
  },
  {
   "cell_type": "code",
   "execution_count": 21,
   "metadata": {},
   "outputs": [
    {
     "name": "stdout",
     "output_type": "stream",
     "text": [
      "\n",
      "Menu:\n",
      "1. Add a task\n",
      "2. Mark a task as completed\n",
      "3. Display pending tasks\n",
      "4. Exit\n",
      "Task 'car service' added with due date 2024-06-15 00:00:00.\n",
      "\n",
      "Menu:\n",
      "1. Add a task\n",
      "2. Mark a task as completed\n",
      "3. Display pending tasks\n",
      "4. Exit\n",
      "Pending tasks:\n",
      "- car service (Due: 2024-06-15 00:00:00)\n",
      "\n",
      "Menu:\n",
      "1. Add a task\n",
      "2. Mark a task as completed\n",
      "3. Display pending tasks\n",
      "4. Exit\n",
      "Task 'Done' not found or already completed.\n",
      "\n",
      "Menu:\n",
      "1. Add a task\n",
      "2. Mark a task as completed\n",
      "3. Display pending tasks\n",
      "4. Exit\n",
      "Exiting the program.\n"
     ]
    }
   ],
   "source": [
    "from datetime import datetime\n",
    "\n",
    "class ToDoList:\n",
    "    def __init__(self):\n",
    "        self.tasks = []\n",
    "    def add_task(self, task, due_date):\n",
    "        self.tasks.append({'task': task, 'due_date': due_date, 'completed': False})\n",
    "        print(f\"Task '{task}' added with due date {due_date}.\")\n",
    "    def mark_task_as_completed(self, task):\n",
    "        for t in self.tasks:\n",
    "            if t['task'] == task and not t['completed']:\n",
    "                t['completed'] = True\n",
    "                print(f\"Task '{task}' marked as completed.\")\n",
    "                return\n",
    "        print(f\"Task '{task}' not found or already completed.\")\n",
    "    def display_pending_tasks(self):\n",
    "        pending_tasks = [t for t in self.tasks if not t['completed']]\n",
    "        if not pending_tasks:\n",
    "            print(\"No pending tasks.\")\n",
    "        else:\n",
    "            print(\"Pending tasks:\")\n",
    "            for t in pending_tasks:\n",
    "                print(f\"- {t['task']} (Due: {t['due_date']})\")\n",
    "todo_list = ToDoList()\n",
    "while True:\n",
    "    print(\"\\nMenu:\")\n",
    "    print(\"1. Add a task\")\n",
    "    print(\"2. Mark a task as completed\")\n",
    "    print(\"3. Display pending tasks\")\n",
    "    print(\"4. Exit\")\n",
    "    choice = input(\"Choose an option: \")\n",
    "    if choice == '1':\n",
    "        task = input(\"Enter the task: \")\n",
    "        due_date = input(\"Enter the due date (YYYY-MM-DD): \")\n",
    "        try:\n",
    "            due_date =datetime.strptime(due_date,'%Y-%m-%d')\n",
    "            todo_list.add_task(task, due_date)\n",
    "        except ValueError:\n",
    "            print(\"Invalid date format. Please use YYYY-MM-DD.\")\n",
    "    elif choice == '2':\n",
    "        task = input(\"Enter the task to mark as completed: \")\n",
    "        todo_list.mark_task_as_completed(task)\n",
    "    elif choice == '3':\n",
    "        todo_list.display_pending_tasks()\n",
    "    elif choice == '4':\n",
    "        print(\"Exiting the program.\")\n",
    "        break\n",
    "    else:\n",
    "        print(\"Invalid choice. Please select a valid option.\")\n"
   ]
  }
 ],
 "metadata": {
  "kernelspec": {
   "display_name": "Python 3",
   "language": "python",
   "name": "python3"
  },
  "language_info": {
   "codemirror_mode": {
    "name": "ipython",
    "version": 3
   },
   "file_extension": ".py",
   "mimetype": "text/x-python",
   "name": "python",
   "nbconvert_exporter": "python",
   "pygments_lexer": "ipython3",
   "version": "3.11.3"
  }
 },
 "nbformat": 4,
 "nbformat_minor": 2
}
